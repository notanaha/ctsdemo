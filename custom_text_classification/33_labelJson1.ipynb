{
 "cells": [
  {
   "cell_type": "markdown",
   "metadata": {},
   "source": [
    "<h3>Creates JSON file for Custom Text Classification</h3>"
   ]
  },
  {
   "cell_type": "code",
   "execution_count": null,
   "metadata": {},
   "outputs": [],
   "source": [
    "DATA_DIR = \"temp\"                # input directory\n",
    "OUTPUT_FILE = \"testjpn3.json\"    # output json file name\n",
    "CONTAINER_NAME = \"class2\"        # Blob container name\n",
    "PROJECT_NAME = \"testjpn3\"        # Project Name\n",
    "Project_description = \"text classification demo\"  # optional description\n",
    "\n",
    "LANGUAGE_CODE = \"ja-jp\"\n",
    "API_VERSION = \"2022-05-01\""
   ]
  },
  {
   "cell_type": "code",
   "execution_count": null,
   "metadata": {},
   "outputs": [],
   "source": [
    "Json_label = \\\n",
    "{\n",
    "  \"projectFileVersion\": API_VERSION,\n",
    "  \"stringIndexType\": \"Utf16CodeUnit\",\n",
    "  \"metadata\": {\n",
    "    \"projectName\": PROJECT_NAME,\n",
    "    \"storageInputContainerName\": CONTAINER_NAME,\n",
    "    \"projectKind\": \"customSingleLabelClassification\",\n",
    "    \"description\": Project_description,\n",
    "    \"language\": LANGUAGE_CODE,\n",
    "    \"multilingual\": True,\n",
    "    \"settings\": {}\n",
    "  },\n",
    "  \"assets\": {\n",
    "    \"projectKind\": \"customSingleLabelClassification\",\n",
    "        \"classes\": [],\n",
    "        \"documents\": []\n",
    "    }\n",
    "}"
   ]
  },
  {
   "cell_type": "code",
   "execution_count": null,
   "metadata": {},
   "outputs": [],
   "source": [
    "dir = DATA_DIR\n",
    "for topic in next(os.walk(dir))[1]:\n",
    "    Json_label[\"assets\"][\"classes\"].append({\"category\": topic})\n",
    "    \n",
    "    print(\"processing\" , topic)\n",
    "    for fname in next(os.walk(os.path.join(dir, topic)))[2]:\n",
    "        Json_label[\"assets\"][\"documents\"].append(\n",
    "            {\n",
    "                \"location\": topic + \"/\" + fname,\n",
    "                \"language\": LANGUAGE_CODE,\n",
    "                \"class\": {\n",
    "                    \"category\": topic\n",
    "                }\n",
    "            }\n",
    "        )\n",
    "\n",
    "#Json_label"
   ]
  },
  {
   "cell_type": "code",
   "execution_count": null,
   "metadata": {},
   "outputs": [],
   "source": [
    "import json\n",
    "json.dump(Json_label, open(OUTPUT_FILE, \"w\"))"
   ]
  }
 ],
 "metadata": {
  "kernelspec": {
   "display_name": "Python 3.8.12 ('py38r')",
   "language": "python",
   "name": "python3"
  },
  "language_info": {
   "codemirror_mode": {
    "name": "ipython",
    "version": 3
   },
   "file_extension": ".py",
   "mimetype": "text/x-python",
   "name": "python",
   "nbconvert_exporter": "python",
   "pygments_lexer": "ipython3",
   "version": "3.8.12"
  },
  "orig_nbformat": 4,
  "vscode": {
   "interpreter": {
    "hash": "69873db2baa386ed3a723fb7c9f8d59af43aa5f9dece46002aff32febc16f8e2"
   }
  }
 },
 "nbformat": 4,
 "nbformat_minor": 2
}
