{
 "cells": [
  {
   "cell_type": "markdown",
   "metadata": {},
   "source": [
    "<h2>Creates separated file structure from a labelled CSV</h2>"
   ]
  },
  {
   "cell_type": "code",
   "execution_count": null,
   "metadata": {},
   "outputs": [],
   "source": [
    "import os\n",
    "import pandas as pd\n",
    "\n",
    "INPUT_FILE = \"test_data.csv\"     # input file name : UTF-8, with a header line of 1st column as \"text\" and 2nd as \"label\"\n",
    "DATA_DIR = \"temp2\"               # output directory\n",
    "\n",
    "os.makedirs(DATA_DIR, exist_ok=True)"
   ]
  },
  {
   "cell_type": "code",
   "execution_count": null,
   "metadata": {},
   "outputs": [],
   "source": [
    "# Read and confirm contents\n",
    "\n",
    "df = pd.read_csv(INPUT_FILE)\n",
    "df = df.astype('str')\n",
    "df.head(2)\n"
   ]
  },
  {
   "cell_type": "code",
   "execution_count": null,
   "metadata": {},
   "outputs": [],
   "source": [
    "# Create sub folders\n",
    "\n",
    "for label in df['label'].unique():\n",
    "    os.makedirs(os.path.join(DATA_DIR, label), exist_ok=True)"
   ]
  },
  {
   "cell_type": "code",
   "execution_count": null,
   "metadata": {},
   "outputs": [],
   "source": [
    "# Write each text out to the designated folders\n",
    "\n",
    "for i, (text, label) in enumerate(zip(df['text'], df['label'])):\n",
    "    fname = label + '_' + str(i).zfill(8) + '.txt'\n",
    "    out_path = os.path.join(DATA_DIR, label)\n",
    "    out_fname = os.path.join(out_path, fname)\n",
    "    with open(out_fname, \"w\", encoding = 'utf-8') as txtfile:\n",
    "        txtfile.write(text)\n"
   ]
  }
 ],
 "metadata": {
  "kernelspec": {
   "display_name": "Python 3.8.12 ('py38r')",
   "language": "python",
   "name": "python3"
  },
  "language_info": {
   "codemirror_mode": {
    "name": "ipython",
    "version": 3
   },
   "file_extension": ".py",
   "mimetype": "text/x-python",
   "name": "python",
   "nbconvert_exporter": "python",
   "pygments_lexer": "ipython3",
   "version": "3.8.12"
  },
  "orig_nbformat": 4,
  "vscode": {
   "interpreter": {
    "hash": "69873db2baa386ed3a723fb7c9f8d59af43aa5f9dece46002aff32febc16f8e2"
   }
  }
 },
 "nbformat": 4,
 "nbformat_minor": 2
}
